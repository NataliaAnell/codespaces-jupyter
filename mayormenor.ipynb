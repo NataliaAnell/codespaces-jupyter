{
 "cells": [
  {
   "cell_type": "code",
   "execution_count": 3,
   "metadata": {},
   "outputs": [
    {
     "name": "stdout",
     "output_type": "stream",
     "text": [
      "True\n",
      "el primer número mayor\n",
      "False\n",
      "el segundo número es menor\n"
     ]
    }
   ],
   "source": [
    "número= float(input(\"escribe un número entero\"))\n",
    "número2= float(input(\"escribe otro número entero\"))\n",
    "print(número>número2)\n",
    "if número>número2:\n",
    "    print(\"el primer número mayor\")\n",
    "else:\n",
    "    print(\"el segundo número es menor\")\n",
    "print(número<número2)\n",
    "if número<número2:\n",
    "    print(\"el primer número es mayor\")\n",
    "else:\n",
    "    print(\"el segundo número es menor\")"
   ]
  }
 ],
 "metadata": {
  "kernelspec": {
   "display_name": "Python 3",
   "language": "python",
   "name": "python3"
  },
  "language_info": {
   "codemirror_mode": {
    "name": "ipython",
    "version": 3
   },
   "file_extension": ".py",
   "mimetype": "text/x-python",
   "name": "python",
   "nbconvert_exporter": "python",
   "pygments_lexer": "ipython3",
   "version": "3.10.13"
  }
 },
 "nbformat": 4,
 "nbformat_minor": 2
}
