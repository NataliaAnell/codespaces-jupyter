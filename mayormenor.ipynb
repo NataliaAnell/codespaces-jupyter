{
 "cells": [
  {
   "cell_type": "code",
   "execution_count": null,
   "metadata": {},
   "outputs": [],
   "source": [
    "número= float(input(\"escribe un número entero\"))\n",
    "número2= float(input(\"escribe otro número entero\"))\n",
    "print(número>número2)\n",
    "if número>número2:\n",
    "    print(\"el primer número es mayor\")\n",
    "else:\n",
    "    print(\"el segundo número es mayor\")\n",
    "print(número<número2)\n",
    "if número<número2:\n",
    "    print(\"el primer número es mayor\")\n",
    "else:\n",
    "    print(\"el segundo número es mayor\")"
   ]
  }
 ],
 "metadata": {
  "language_info": {
   "name": "python"
  }
 },
 "nbformat": 4,
 "nbformat_minor": 2
}
