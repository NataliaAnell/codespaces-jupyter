{
 "cells": [
  {
   "cell_type": "code",
   "execution_count": null,
   "metadata": {},
   "outputs": [],
   "source": [
    "número1= float(input(\"escribe un número entero\"))\n",
    "número2= float(input(\"escribe otro número entero\"))\n",
    "print(número1>número2)\n",
    "if número1>número2:\n",
    "    print(número1+número2)\n",
    "print(número1<número2)\n",
    "if número1<número2:\n",
    "    print(número1*número2)"
   ]
  }
 ],
 "metadata": {
  "language_info": {
   "name": "python"
  }
 },
 "nbformat": 4,
 "nbformat_minor": 2
}
