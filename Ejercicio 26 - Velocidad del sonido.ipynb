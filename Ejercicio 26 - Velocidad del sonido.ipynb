{
 "cells": [
  {
   "cell_type": "code",
   "execution_count": 2,
   "metadata": {},
   "outputs": [
    {
     "name": "stdout",
     "output_type": "stream",
     "text": [
      "El tiempo que tardará la onda de sonido en recorrer metros es de aproximadamente segundos.\n"
     ]
    }
   ],
   "source": [
    "distancia = float(input(\"Ingrese la distancia que recorrerá la onda de sonido en metros: \"))\n",
    "velocidad_del_sonido = 343  \n",
    "tiempo = distancia / velocidad_del_sonido\n",
    "print(\"El tiempo que tardará la onda de sonido en recorrer metros es de aproximadamente segundos.\")\n"
   ]
  }
 ],
 "metadata": {
  "kernelspec": {
   "display_name": "Python 3",
   "language": "python",
   "name": "python3"
  },
  "language_info": {
   "codemirror_mode": {
    "name": "ipython",
    "version": 3
   },
   "file_extension": ".py",
   "mimetype": "text/x-python",
   "name": "python",
   "nbconvert_exporter": "python",
   "pygments_lexer": "ipython3",
   "version": "3.10.13"
  }
 },
 "nbformat": 4,
 "nbformat_minor": 2
}
